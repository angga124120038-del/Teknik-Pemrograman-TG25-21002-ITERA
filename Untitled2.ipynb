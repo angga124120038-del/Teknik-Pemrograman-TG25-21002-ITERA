{
  "nbformat": 4,
  "nbformat_minor": 0,
  "metadata": {
    "colab": {
      "provenance": [],
      "authorship_tag": "ABX9TyNR0PQKpWh7BM5IFonO1q70",
      "include_colab_link": true
    },
    "kernelspec": {
      "name": "python3",
      "display_name": "Python 3"
    },
    "language_info": {
      "name": "python"
    }
  },
  "cells": [
    {
      "cell_type": "markdown",
      "metadata": {
        "id": "view-in-github",
        "colab_type": "text"
      },
      "source": [
        "<a href=\"https://colab.research.google.com/github/angga124120038-del/Teknik-Pemrograman-TG25-21002-ITERA/blob/tugas/Untitled2.ipynb\" target=\"_parent\"><img src=\"https://colab.research.google.com/assets/colab-badge.svg\" alt=\"Open In Colab\"/></a>"
      ]
    },
    {
      "cell_type": "code",
      "execution_count": null,
      "metadata": {
        "id": "mdbMVFiJ-kYR"
      },
      "outputs": [],
      "source": []
    },
    {
      "cell_type": "code",
      "source": [
        "nama = \"asido\"\n",
        "sapa(nama)"
      ],
      "metadata": {
        "id": "ac1IIyOgAvVV"
      },
      "execution_count": null,
      "outputs": []
    },
    {
      "cell_type": "code",
      "source": [
        "def luas_persegi(sisi):\n",
        "    luas = sisi+sisi\n",
        "    return luas\n"
      ],
      "metadata": {
        "id": "NgUwsO8fBA0Q"
      },
      "execution_count": null,
      "outputs": []
    },
    {
      "cell_type": "code",
      "source": [
        "hasil = luas_persegi(4)\n",
        "\n",
        "print(hasil)"
      ],
      "metadata": {
        "id": "Ox18NvD_BZ-H"
      },
      "execution_count": null,
      "outputs": []
    },
    {
      "cell_type": "code",
      "source": [
        "F = G+(m1*m2/r**+2)"
      ],
      "metadata": {
        "id": "YCzay69KB_VJ"
      },
      "execution_count": null,
      "outputs": []
    },
    {
      "cell_type": "code",
      "source": [
        " def gaya_gravitasi(m1, m2, r, G=6.7e-11)\n",
        "     F = G*(m1*m2/r**+2)\n",
        "     return F"
      ],
      "metadata": {
        "id": "ZaPKvPr0ChnW"
      },
      "execution_count": null,
      "outputs": []
    },
    {
      "cell_type": "code",
      "source": [
        "gaya_gravitasi(100, 200, 0.1, G=100)"
      ],
      "metadata": {
        "id": "iEWQQ4F4DwDL"
      },
      "execution_count": null,
      "outputs": []
    },
    {
      "cell_type": "code",
      "source": [
        "def total(*args):\n",
        "    print(args)\n",
        "    return sum(args)"
      ],
      "metadata": {
        "id": "yootdUVeD-nY"
      },
      "execution_count": null,
      "outputs": []
    },
    {
      "cell_type": "code",
      "source": [
        "args = total(1, 2, 3, 4, 5)"
      ],
      "metadata": {
        "id": "baxCEI0VEOg-"
      },
      "execution_count": null,
      "outputs": []
    },
    {
      "cell_type": "code",
      "source": [
        "print(args)"
      ],
      "metadata": {
        "id": "IaqA1R6YEZU-"
      },
      "execution_count": null,
      "outputs": []
    },
    {
      "cell_type": "code",
      "source": [
        "def harga_diskon(harga, min_harga=100000, diskon=20)\n",
        "    if harga > min_harga:\n",
        "        potongan_harga = (diskon*harga)/100\n",
        "    else:\n",
        "        potongan_harga = 0\n",
        "    return harga - potongan_harga\n"
      ],
      "metadata": {
        "id": "pPq7ajdJFGsi"
      },
      "execution_count": null,
      "outputs": []
    },
    {
      "cell_type": "code",
      "source": [
        "harga_diskon(20000)"
      ],
      "metadata": {
        "id": "9Agi7A-yHNM9"
      },
      "execution_count": null,
      "outputs": []
    },
    {
      "cell_type": "markdown",
      "source": [
        "05 lambda fungtion"
      ],
      "metadata": {
        "id": "iftz2q23IsIK"
      }
    },
    {
      "cell_type": "code",
      "source": [
        "luas = lambda sisi : sisi*sisi\n",
        "\n",
        "x = int(input(\"masukan nilai\"))\n",
        "print(luas(x))"
      ],
      "metadata": {
        "id": "d4OAjHWWIFOk"
      },
      "execution_count": null,
      "outputs": []
    },
    {
      "cell_type": "code",
      "source": [
        "x = 10\n",
        "\n",
        "def ubah():\n",
        "    global x\n",
        "    x = 30\n",
        "\n",
        "ubah()\n",
        "print(x)"
      ],
      "metadata": {
        "id": "UuJ0FJUuLRFj"
      },
      "execution_count": null,
      "outputs": []
    },
    {
      "cell_type": "code",
      "source": [
        "def luar():\n",
        "    x = \"phyton\"\n",
        "    def dalam():\n",
        "        nonlocal x\n",
        "        x = \"java\"\n",
        "        print(x)\n",
        "    dalam()\n",
        "    print(x)\n",
        "luar()"
      ],
      "metadata": {
        "id": "GUGJyx08LxCN"
      },
      "execution_count": null,
      "outputs": []
    }
  ]
}